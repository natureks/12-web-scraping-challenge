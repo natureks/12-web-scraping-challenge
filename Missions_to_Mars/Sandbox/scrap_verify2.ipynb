{
 "cells": [
  {
   "cell_type": "code",
   "execution_count": null,
   "metadata": {},
   "outputs": [],
   "source": [
    "import scrape_mars as sm"
   ]
  },
  {
   "cell_type": "code",
   "execution_count": null,
   "metadata": {},
   "outputs": [],
   "source": [
    "import json"
   ]
  },
  {
   "cell_type": "code",
   "execution_count": null,
   "metadata": {},
   "outputs": [],
   "source": [
    "hemisphere_image_dict = sm.scrape(2)\n"
   ]
  },
  {
   "cell_type": "code",
   "execution_count": null,
   "metadata": {},
   "outputs": [],
   "source": [
    "app_json = json.dumps(hemisphere_image_dict)\n",
    "print(app_json)"
   ]
  },
  {
   "cell_type": "code",
   "execution_count": null,
   "metadata": {},
   "outputs": [],
   "source": [
    "for item in hemisphere_image_dict.items():\n",
    "    print(item)"
   ]
  },
  {
   "cell_type": "code",
   "execution_count": null,
   "metadata": {},
   "outputs": [],
   "source": [
    "import pymongo\n",
    "conn = 'mongodb://localhost:27017'\n",
    "client = pymongo.MongoClient(conn)\n",
    "db = client.mars_db\n",
    "collection = db.mars_collection\n",
    "\n",
    "rec_ids = []\n",
    "for key, value in hemisphere_image_dict:\n",
    "    print(key)"
   ]
  },
  {
   "cell_type": "code",
   "execution_count": null,
   "metadata": {},
   "outputs": [],
   "source": [
    "sm.insert_mongo(hemisphere_image_dict)"
   ]
  },
  {
   "cell_type": "code",
   "execution_count": null,
   "metadata": {},
   "outputs": [],
   "source": [
    "import pymongo\n",
    "conn = 'mongodb://localhost:27017'\n",
    "client = pymongo.MongoClient(conn)\n",
    "db = client.mars_db\n",
    "collection = db.mars_collection"
   ]
  },
  {
   "cell_type": "code",
   "execution_count": null,
   "metadata": {},
   "outputs": [],
   "source": [
    "for key, value in hemisphere_image_dict.items():\n",
    "    if key != '_id':\n",
    "        # a_dict = {value: key}\n",
    "        a_dict = {key: value}\n",
    "        print(a_dict)\n",
    "        rec_id = collection.insert_one(a_dict)\n",
    "        print('Record inserted:', rec_id)"
   ]
  },
  {
   "cell_type": "code",
   "execution_count": null,
   "metadata": {},
   "outputs": [],
   "source": []
  },
  {
   "cell_type": "code",
   "execution_count": 28,
   "metadata": {},
   "outputs": [
    {
     "data": {
      "text/plain": [
       "<pymongo.results.DeleteResult at 0x1a29bd3df88>"
      ]
     },
     "execution_count": 28,
     "metadata": {},
     "output_type": "execute_result"
    }
   ],
   "source": [
    "collection.delete_many({})"
   ]
  },
  {
   "cell_type": "code",
   "execution_count": null,
   "metadata": {},
   "outputs": [],
   "source": [
    "app_json = json.dumps(hemisphere_image_dict)\n",
    "print(app_json)\n",
    "rec_id = collection.insert_one({'type':'Images', 'dict':app_json})\n",
    "print('Record inserted:', rec_id)\n"
   ]
  },
  {
   "cell_type": "code",
   "execution_count": null,
   "metadata": {},
   "outputs": [],
   "source": [
    "import pymongo\n",
    "conn = 'mongodb://localhost:27017'\n",
    "client = pymongo.MongoClient(conn)\n",
    "db = client.mars_db\n",
    "collection = db.mars_collection\n",
    "cursor = collection.find()\n",
    "print(\"Begin\")\n",
    "for record in cursor: \n",
    "    print(record)\n",
    "print(\"End\")"
   ]
  },
  {
   "cell_type": "code",
   "execution_count": null,
   "metadata": {},
   "outputs": [],
   "source": [
    "print_dict_details(hemisphere_image_dict)"
   ]
  },
  {
   "cell_type": "code",
   "execution_count": null,
   "metadata": {},
   "outputs": [],
   "source": [
    "get_value_from_mongo('Images')"
   ]
  },
  {
   "cell_type": "code",
   "execution_count": null,
   "metadata": {},
   "outputs": [],
   "source": [
    "# Printing the data inserted \n",
    "cursor = collection.find({'type':'Images'}) \n",
    "for record in cursor: \n",
    "    print_dict_details(record)\n",
    "    break;"
   ]
  },
  {
   "cell_type": "code",
   "execution_count": null,
   "metadata": {},
   "outputs": [],
   "source": [
    "import scrape_mars as sm\n",
    "import json\n",
    "\n",
    "ttext =sm.get_value_from_mongo(\"Images\")\n",
    "tdict = json.load(ttext)\n",
    "print(\"Mars Facts Type:\", type(tdict))\n",
    "print(tdict)\n",
    "\n"
   ]
  },
  {
   "cell_type": "code",
   "execution_count": null,
   "metadata": {},
   "outputs": [],
   "source": [
    "import scrape_mars as sm\n",
    "weather_dict = sm.scrape_weatherdata()\n",
    "sm.insert_mongo('Weather', weather_dict)"
   ]
  },
  {
   "cell_type": "code",
   "execution_count": null,
   "metadata": {},
   "outputs": [],
   "source": [
    "import scrape_mars as sm\n",
    "tobj = sm.get_value_from_mongo('Weather')\n",
    "print(type(tobj))\n",
    "tobj"
   ]
  },
  {
   "cell_type": "code",
   "execution_count": null,
   "metadata": {},
   "outputs": [],
   "source": [
    "import bson\n",
    "from bson.codec_options import CodecOptions\n",
    "decoded_doc = bson.BSON(tobj).decode()\n",
    "print(type(decoded_doc))\n",
    "decoded_doc"
   ]
  },
  {
   "cell_type": "code",
   "execution_count": 36,
   "metadata": {},
   "outputs": [
    {
     "data": {
      "text/plain": [
       "<pymongo.results.DeleteResult at 0x1a29bc5df08>"
      ]
     },
     "execution_count": 36,
     "metadata": {},
     "output_type": "execute_result"
    }
   ],
   "source": [
    "collection.delete_many({})"
   ]
  },
  {
   "cell_type": "code",
   "execution_count": null,
   "metadata": {},
   "outputs": [],
   "source": [
    "import pickle\n",
    "def to_mongodb(data, collection, key, pickling=False):\n",
    "    \"\"\" write object to default MongoDB database.\n",
    "\n",
    "    :param data: BSON compatible object\n",
    "    :param str collection: collection name\n",
    "    :param str key: key to identify\n",
    "    :param bool pickling: store data pickled\n",
    "    :return: None\n",
    "    \"\"\"\n",
    "\n",
    "    '''\n",
    "    with get_default_mongo_database() as db:\n",
    "        collection = db[collection]\n",
    "        if pickling:\n",
    "            data = pickle.dumps(data)\n",
    "        collection.delete_many({'name': key})\n",
    "        collection.insert_one({'name': key, 'data': data})\n",
    "    '''\n",
    "    \n",
    "    if pickling:\n",
    "        data = pickle.dumps(data)\n",
    "    collection.delete_many({'name': key})\n",
    "    collection.insert_one({'name': key, 'data': data})\n",
    "\n",
    "def from_mongodb(collection, key, pickling=False):\n",
    "    \"\"\" retrieve object from MongoDB.\n",
    "\n",
    "    :param str collection: collection name\n",
    "    :param key: key to identify\n",
    "    :param bool pickling: stored data is pickled\n",
    "    :return: data\n",
    "    \"\"\"\n",
    "    \n",
    "    '''\n",
    "    with get_default_mongo_database() as db:\n",
    "        collection = db[collection]\n",
    "        data = collection.find_one({'name': key})['data']\n",
    "        \n",
    "    '''\n",
    "    \n",
    "    data = collection.find_one({'name': key})['data']\n",
    "    if pickling:\n",
    "        data = pickle.loads(data)\n",
    "    return data"
   ]
  },
  {
   "cell_type": "code",
   "execution_count": null,
   "metadata": {},
   "outputs": [],
   "source": [
    "import scrape_mars as sm\n",
    "collection= sm.connect_to_mongo()\n",
    "\n",
    "my_dict = {1: 'apple', 2: 'ball'}\n",
    "to_mongodb(my_dict, collection, \"fruits\", pickling=True)\n",
    "\n",
    "my_dict = {1: 'sunny', 2: 'rainy'}\n",
    "to_mongodb(my_dict, collection, \"weather\", pickling=True)\n"
   ]
  },
  {
   "cell_type": "code",
   "execution_count": null,
   "metadata": {},
   "outputs": [],
   "source": [
    "data = from_mongodb(collection, \"fruits\", pickling=True)\n",
    "data"
   ]
  },
  {
   "cell_type": "code",
   "execution_count": null,
   "metadata": {},
   "outputs": [],
   "source": [
    "type(data)"
   ]
  },
  {
   "cell_type": "code",
   "execution_count": null,
   "metadata": {},
   "outputs": [],
   "source": [
    "sm.print_dict_details(data)"
   ]
  },
  {
   "cell_type": "code",
   "execution_count": null,
   "metadata": {},
   "outputs": [],
   "source": [
    "data = from_mongodb(collection, \"weather\", pickling=True)\n",
    "sm.print_dict_details(data)"
   ]
  },
  {
   "cell_type": "code",
   "execution_count": null,
   "metadata": {},
   "outputs": [],
   "source": [
    "    collection = sm.connect_to_mongo()\n",
    "\n",
    "    documents = collection.find()\n",
    "    print(type(documents[0]))\n"
   ]
  },
  {
   "cell_type": "code",
   "execution_count": null,
   "metadata": {},
   "outputs": [],
   "source": [
    "    print(documents[0])"
   ]
  },
  {
   "cell_type": "code",
   "execution_count": null,
   "metadata": {},
   "outputs": [],
   "source": [
    "    response = json.dumps(documents[0]) \n",
    "    print(response)"
   ]
  },
  {
   "cell_type": "code",
   "execution_count": null,
   "metadata": {},
   "outputs": [],
   "source": [
    "test1 = { \"testname\" : \"akshat\", \n",
    "          \"test2name\" : \"manjeet\", \n",
    "          \"test3name\" : \"nikhil\"} \n",
    "  \n",
    "# print original dictionary \n",
    "print (type(test1)) \n",
    "print (\"initial dictionary = \", test1) \n",
    "  \n",
    "# convert dictionary into string \n",
    "# using json.dumps() \n",
    "result = json.dumps(test1) \n",
    "  \n",
    "# printing result as string \n",
    "print (\"\\n\", type(result)) \n",
    "print (\"final string = \", result)"
   ]
  },
  {
   "cell_type": "code",
   "execution_count": 7,
   "metadata": {},
   "outputs": [],
   "source": [
    "import scrape_mars as sm\n",
    "collection = sm.connect_to_mongo()"
   ]
  },
  {
   "cell_type": "code",
   "execution_count": 8,
   "metadata": {},
   "outputs": [
    {
     "data": {
      "text/plain": [
       "{'Weather': 'Today, Mars has a high temperature of minus 14 degrees Fahrenheit and a low of minus 117. The weather data comes from the Mars rover Curiosity, which has been on the Red Planet for 458 sols.'}"
      ]
     },
     "execution_count": 8,
     "metadata": {},
     "output_type": "execute_result"
    }
   ],
   "source": [
    "weather_dict = sm.from_mongodb(collection, \"Weather\", pickling=True)\n",
    "weather_dict"
   ]
  },
  {
   "cell_type": "code",
   "execution_count": 10,
   "metadata": {},
   "outputs": [
    {
     "data": {
      "text/plain": [
       "{'Equatorial Diameter': '6,792 km',\n",
       " 'Polar Diameter': '6,752 km',\n",
       " 'Mass': '6.39 Ã\\x97 10^23 kg (0.11 Earths)',\n",
       " 'Moons': '2 (Phobos & Deimos)',\n",
       " 'Orbit Distance': '227,943,824 km (1.38 AU)',\n",
       " 'Orbit Period': '687 days (1.9 years)',\n",
       " 'Surface Temperature': '-87 to -5 Â°C',\n",
       " 'First Record': '2nd millennium BC',\n",
       " 'Recorded By': 'Egyptian astronomers'}"
      ]
     },
     "execution_count": 10,
     "metadata": {},
     "output_type": "execute_result"
    }
   ],
   "source": [
    "facts_dict = sm.from_mongodb(collection, \"Mars_Facts\", pickling=True)\n",
    "facts_dict"
   ]
  },
  {
   "cell_type": "code",
   "execution_count": 33,
   "metadata": {},
   "outputs": [
    {
     "name": "stdout",
     "output_type": "stream",
     "text": [
      "{'Cerberus Hemisphere Enhanced': 'http://astropedia.astrogeology.usgs.gov/download/Mars/Viking/cerberus_enhanced.tif/full.jpg', 'Schiaparelli Hemisphere Enhanced': 'http://astropedia.astrogeology.usgs.gov/download/Mars/Viking/schiaparelli_enhanced.tif/full.jpg', 'Syrtis Major Hemisphere Enhanced': 'http://astropedia.astrogeology.usgs.gov/download/Mars/Viking/syrtis_major_enhanced.tif/full.jpg', 'Valles Marineris Hemisphere Enhanced': 'http://astropedia.astrogeology.usgs.gov/download/Mars/Viking/valles_marineris_enhanced.tif/full.jpg'}\n"
     ]
    },
    {
     "data": {
      "text/plain": [
       "dict"
      ]
     },
     "execution_count": 33,
     "metadata": {},
     "output_type": "execute_result"
    }
   ],
   "source": [
    "image_dict = sm.from_mongodb(collection, \"Images\", pickling=True)\n",
    "print(image_dict)\n",
    "type(image_dict)"
   ]
  },
  {
   "cell_type": "code",
   "execution_count": 34,
   "metadata": {},
   "outputs": [],
   "source": [
    "new_list = []\n",
    "for key, value in image_dict.items():\n",
    "    new_list.append((key, value))\n"
   ]
  },
  {
   "cell_type": "code",
   "execution_count": 35,
   "metadata": {},
   "outputs": [
    {
     "name": "stdout",
     "output_type": "stream",
     "text": [
      "Cerberus Hemisphere Enhanced\n",
      "http://astropedia.astrogeology.usgs.gov/download/Mars/Viking/cerberus_enhanced.tif/full.jpg \n",
      "\n",
      "Schiaparelli Hemisphere Enhanced\n",
      "http://astropedia.astrogeology.usgs.gov/download/Mars/Viking/schiaparelli_enhanced.tif/full.jpg \n",
      "\n",
      "Syrtis Major Hemisphere Enhanced\n",
      "http://astropedia.astrogeology.usgs.gov/download/Mars/Viking/syrtis_major_enhanced.tif/full.jpg \n",
      "\n",
      "Valles Marineris Hemisphere Enhanced\n",
      "http://astropedia.astrogeology.usgs.gov/download/Mars/Viking/valles_marineris_enhanced.tif/full.jpg \n",
      "\n"
     ]
    }
   ],
   "source": [
    "for l in new_list:\n",
    "    print(l[0])\n",
    "    print(l[1], '\\n')"
   ]
  },
  {
   "cell_type": "code",
   "execution_count": 32,
   "metadata": {},
   "outputs": [
    {
     "name": "stdout",
     "output_type": "stream",
     "text": [
      "~please load /scrape or click on the button 'Scrape New Data' \n"
     ]
    }
   ],
   "source": [
    "if len(new_list) < 2:\n",
    "    print(\"~please load /scrape or click on the button 'Scrape New Data' \")"
   ]
  },
  {
   "cell_type": "code",
   "execution_count": null,
   "metadata": {},
   "outputs": [],
   "source": []
  }
 ],
 "metadata": {
  "kernelspec": {
   "display_name": "Python 3",
   "language": "python",
   "name": "python3"
  },
  "language_info": {
   "codemirror_mode": {
    "name": "ipython",
    "version": 3
   },
   "file_extension": ".py",
   "mimetype": "text/x-python",
   "name": "python",
   "nbconvert_exporter": "python",
   "pygments_lexer": "ipython3",
   "version": "3.7.4"
  }
 },
 "nbformat": 4,
 "nbformat_minor": 2
}
